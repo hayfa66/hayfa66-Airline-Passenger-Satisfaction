{
 "cells": [
  {
   "cell_type": "markdown",
   "metadata": {},
   "source": [
    "<font color=A10035 size = 30 >**Airline Passengers Satisfaction**"
   ]
  },
  {
   "cell_type": "markdown",
   "metadata": {},
   "source": [
    "<font size = 50>Guide </font> \n",
    "<font color = 002B5B>\n",
    "- Data Understanding\n",
    "\n",
    "- Prepare Data\n",
    "\n",
    "- Questions<font color=7D530C >\n",
    "\n",
    "    1. <font color=A10035>Question 1</font> : Is there a relation between any of the satisfaction levels and the overall Satisfaction ?\n",
    "</font>\n",
    "\n",
    "        Analyse\n",
    "\n",
    "        Visualise\n",
    "\n",
    "        Brief explanation for visualisation\n",
    "<font color=7D530C >\n",
    "    2. <font color=A10035>Question 2</font> : Does the biological Factors like age , gender and Hours spent on flight affect the overall Satisfaction ?\n",
    "</font>\n",
    "\n",
    "        Analyse\n",
    "\n",
    "        Visualise\n",
    "\n",
    "        Brief explanation for visualisation\n",
    "<font color=7D530C >\n",
    "    3. <font color=A10035>Question 3</font> : Does the in-flight entertainment is specified for a certain age ?\n",
    "   </font> \n",
    "\n",
    "        Analyse\n",
    "\n",
    "        Visualise\n",
    "        \n",
    "        Brief explanation for visualisation"
   ]
  },
  {
   "cell_type": "code",
   "execution_count": 3,
   "metadata": {},
   "outputs": [],
   "source": [
    "import numpy as np\n",
    "import pandas as pd\n",
    "import matplotlib.pyplot as plt\n",
    "import matplotlib.colors as clr\n",
    "%matplotlib inline\n",
    "\n",
    "pd.set_option(\"display.max_columns\", None)\n",
    "pd.set_option(\"display.max_rows\", 100)"
   ]
  },
  {
   "cell_type": "code",
   "execution_count": 4,
   "metadata": {
    "scrolled": true
   },
   "outputs": [],
   "source": [
    "df = pd.read_csv(\"https://raw.githubusercontent.com/hayfa66/hayfa66-Project-Airline-Passenger-Satisfaction/main/airline_passenger_satisfaction.csv\")\n",
    "dfd = pd.read_csv(\"https://raw.githubusercontent.com/hayfa66/hayfa66-Project-Airline-Passenger-Satisfaction/main/data_dictionary.csv\")"
   ]
  },
  {
   "cell_type": "markdown",
   "metadata": {},
   "source": [
    "<font color=A10035 size = 30 >**Data Understanding**"
   ]
  },
  {
   "cell_type": "code",
   "execution_count": 5,
   "metadata": {
    "scrolled": true
   },
   "outputs": [
    {
     "data": {
      "text/plain": [
       "['Unique passenger identifier',\n",
       " 'Gender of the passenger (Female/Male)',\n",
       " 'Age of the passenger',\n",
       " 'Type of airline customer (First-time/Returning)',\n",
       " 'Purpose of the flight (Business/Personal)',\n",
       " 'Travel class in the airplane for the passenger seat',\n",
       " 'Flight distance in miles',\n",
       " 'Flight departure delay in minutes',\n",
       " 'Flight arrival delay in minutes',\n",
       " 'Satisfaction level with the convenience of the flight departure and arrival times from 1 (lowest) to 5 (highest) - 0 means \"not applicable\"',\n",
       " 'Satisfaction level with the online booking experience from 1 (lowest) to 5 (highest) - 0 means \"not applicable\"',\n",
       " 'Satisfaction level with the check-in service from 1 (lowest) to 5 (highest) - 0 means \"not applicable\"',\n",
       " 'Satisfaction level with the online boarding experience from 1 (lowest) to 5 (highest) - 0 means \"not applicable\"',\n",
       " 'Satisfaction level with the gate location in the airport from 1 (lowest) to 5 (highest) - 0 means \"not applicable\"',\n",
       " 'Satisfaction level with the on-boarding service in the airport from 1 (lowest) to 5 (highest) - 0 means \"not applicable\"',\n",
       " 'Satisfaction level with the comfort of the airplane seat from 1 (lowest) to 5 (highest) - 0 means \"not applicable\"',\n",
       " 'Satisfaction level with the leg room of the airplane seat from 1 (lowest) to 5 (highest) - 0 means \"not applicable\"',\n",
       " 'Satisfaction level with the cleanliness of the airplane from 1 (lowest) to 5 (highest) - 0 means \"not applicable\"',\n",
       " 'Satisfaction level with the food and drinks on the airplane from 1 (lowest) to 5 (highest) - 0 means \"not applicable\"',\n",
       " 'Satisfaction level with the in-flight service from 1 (lowest) to 5 (highest) - 0 means \"not applicable\"',\n",
       " 'Satisfaction level with the in-flight Wifi service from 1 (lowest) to 5 (highest) - 0 means \"not applicable\"',\n",
       " 'Satisfaction level with the in-flight entertainment from 1 (lowest) to 5 (highest) - 0 means \"not applicable\"',\n",
       " 'Satisfaction level with the baggage handling from the airline from 1 (lowest) to 5 (highest) - 0 means \"not applicable\"',\n",
       " 'Overall satisfaction level with the airline (Satisfied/Neutral or unsatisfied)']"
      ]
     },
     "execution_count": 5,
     "metadata": {},
     "output_type": "execute_result"
    }
   ],
   "source": [
    "dfd['Description'].tolist()"
   ]
  },
  {
   "cell_type": "code",
   "execution_count": 6,
   "metadata": {},
   "outputs": [],
   "source": [
    "df2 = df[df.columns[df.dtypes!=object]].copy() # a copy of the numerical Data \n",
    "df2 = df2.drop(['ID','Age','Flight Distance','Departure Delay','Arrival Delay']\n",
    "              ,axis=1) # copy of The Ratings So we can use it"
   ]
  },
  {
   "cell_type": "code",
   "execution_count": 7,
   "metadata": {},
   "outputs": [
    {
     "data": {
      "text/plain": [
       "(129880, 14)"
      ]
     },
     "execution_count": 7,
     "metadata": {},
     "output_type": "execute_result"
    }
   ],
   "source": [
    "df2.shape"
   ]
  },
  {
   "cell_type": "markdown",
   "metadata": {},
   "source": [
    "<font color=A10035 size = 30 >**Prepare Data**"
   ]
  },
  {
   "cell_type": "markdown",
   "metadata": {},
   "source": [
    "<font color=7D530C size=10> Untrustable relations </font> \n",
    "\n",
    "<font color = 002B5B>\n",
    "I have noticed there no relation between '<font color=A10035>Departure and Arrival Time Convenience</font>' and '<font color=A10035> Departure Delay</font>' , '<font color=A10035>Arrival Delay</font>' columns"
   ]
  },
  {
   "cell_type": "markdown",
   "metadata": {},
   "source": [
    "<font color = 002B5B>\n",
    "So here is a loop that calculates the percentage of members that are satisfied with the time in 'sum of the time delay' , and calculates the of  neutral or dissatisfied members over the same sum of the time delay \n",
    "<br></br>\n",
    "if there are two people that has a sum of 2000 min delay and only one of them is satisfied the loop will give us : -<br></br>\n",
    "1/2 , \n",
    "1/2"
   ]
  },
  {
   "cell_type": "code",
   "execution_count": 8,
   "metadata": {},
   "outputs": [],
   "source": [
    "N_Of_Satisfied = (df2['Departure and Arrival Time Convenience']>=4) # condition\n",
    "N_Of_Distisfied = (df2['Departure and Arrival Time Convenience']<3) # condition\n",
    "P = [] # list which will contain the people who think the time delay is convenient\n",
    "B = [] # list which will contain the people who think the time delay is not convenient\n",
    "M = int(df[['Departure Delay','Arrival Delay']].sum(axis=1).max())\n",
    "\n",
    "\n",
    "for i in range(M): \n",
    "  PS = (df[['Departure Delay','Arrival Delay']].sum(axis=1)==i)\n",
    "  NOF = df[N_Of_Satisfied&PS].shape[0]\n",
    "  NOD = df[N_Of_Distisfied&PS].shape[0]\n",
    "  PS = df[PS].shape[0]\n",
    "  if PS != 0:\n",
    "    P.append(100*NOF/PS)\n",
    "    B.append(100*NOD/PS)"
   ]
  },
  {
   "cell_type": "code",
   "execution_count": 9,
   "metadata": {},
   "outputs": [
    {
     "data": {
      "image/png": "[encoded data removed]",
      "text/plain": [
       "<Figure size 432x288 with 1 Axes>"
      ]
     },
     "metadata": {
      "needs_background": "light"
     },
     "output_type": "display_data"
    }
   ],
   "source": [
    "# plotting the result\n",
    "x = np.linspace(0,len(P)+1,len(P)+1)\n",
    "y = [0]\n",
    "y = P + y \n",
    "y1 = [0]\n",
    "y1 = B + y1\n",
    "\n",
    "fig, ax = plt.subplots()\n",
    "ax.scatter(x ,y1 ,color='#A10035',alpha=0.5)\n",
    "ax.scatter(x ,y ,color='#002B5B',alpha=0.3)\n",
    "ax.set(xlim=(-1,len(P)+1), xticks=np.arange(0,len(P)+23,100),\n",
    "       ylim=(-3,103), yticks=np.arange(0,101, 20),\n",
    "       xlabel='Minutes',ylabel='Percentage')      \n",
    "\n",
    "plt.show()"
   ]
  },
  {
   "cell_type": "markdown",
   "metadata": {},
   "source": [
    "<font size = 4 color = 002B5B> So there is no relation between '<font color=A10035>Departure and Arrival Time Convenience</font>' and '<font color=A10035> Departure Delay</font>' , '<font color=A10035>Arrival Delay</font>'  as we see the satisfied are pretty much always more than the unsatisfied\n",
    "even when the sum of time of waiting are bigger\n",
    " </font>"
   ]
  },
  {
   "cell_type": "code",
   "execution_count": 10,
   "metadata": {},
   "outputs": [],
   "source": [
    "df.drop(['Departure Delay','Arrival Delay'],axis=1,inplace=True)"
   ]
  },
  {
   "cell_type": "markdown",
   "metadata": {},
   "source": [
    "<font size = 4 color = 002B5B> We need to know does this Flight airline gives a service respect to a class ? in this data set the not applicable situation for a service can be shown as 0\n",
    "so grouping by class is there any class that has a service which is all of its values are zero ?"
   ]
  },
  {
   "cell_type": "code",
   "execution_count": 11,
   "metadata": {},
   "outputs": [
    {
     "data": {
      "text/html": [
       "<div>\n",
       "<style scoped>\n",
       "    .dataframe tbody tr th:only-of-type {\n",
       "        vertical-align: middle;\n",
       "    }\n",
       "\n",
       "    .dataframe tbody tr th {\n",
       "        vertical-align: top;\n",
       "    }\n",
       "\n",
       "    .dataframe thead th {\n",
       "        text-align: right;\n",
       "    }\n",
       "</style>\n",
       "<table border=\"1\" class=\"dataframe\">\n",
       "  <thead>\n",
       "    <tr style=\"text-align: right;\">\n",
       "      <th></th>\n",
       "      <th>Departure and Arrival Time Convenience</th>\n",
       "      <th>Ease of Online Booking</th>\n",
       "      <th>Check-in Service</th>\n",
       "      <th>Online Boarding</th>\n",
       "      <th>Gate Location</th>\n",
       "      <th>On-board Service</th>\n",
       "      <th>Seat Comfort</th>\n",
       "      <th>Leg Room Service</th>\n",
       "      <th>Cleanliness</th>\n",
       "      <th>Food and Drink</th>\n",
       "      <th>In-flight Service</th>\n",
       "      <th>In-flight Wifi Service</th>\n",
       "      <th>In-flight Entertainment</th>\n",
       "      <th>Baggage Handling</th>\n",
       "    </tr>\n",
       "    <tr>\n",
       "      <th>Class</th>\n",
       "      <th></th>\n",
       "      <th></th>\n",
       "      <th></th>\n",
       "      <th></th>\n",
       "      <th></th>\n",
       "      <th></th>\n",
       "      <th></th>\n",
       "      <th></th>\n",
       "      <th></th>\n",
       "      <th></th>\n",
       "      <th></th>\n",
       "      <th></th>\n",
       "      <th></th>\n",
       "      <th></th>\n",
       "    </tr>\n",
       "  </thead>\n",
       "  <tbody>\n",
       "    <tr>\n",
       "      <th>Business</th>\n",
       "      <td>0.954215</td>\n",
       "      <td>0.957754</td>\n",
       "      <td>0.999984</td>\n",
       "      <td>0.989141</td>\n",
       "      <td>0.999984</td>\n",
       "      <td>0.99992</td>\n",
       "      <td>0.999984</td>\n",
       "      <td>0.997458</td>\n",
       "      <td>0.999936</td>\n",
       "      <td>0.999405</td>\n",
       "      <td>0.99992</td>\n",
       "      <td>0.959942</td>\n",
       "      <td>0.999871</td>\n",
       "      <td>1.0</td>\n",
       "    </tr>\n",
       "    <tr>\n",
       "      <th>Economy</th>\n",
       "      <td>0.939443</td>\n",
       "      <td>0.955359</td>\n",
       "      <td>1.000000</td>\n",
       "      <td>0.964825</td>\n",
       "      <td>1.000000</td>\n",
       "      <td>1.00000</td>\n",
       "      <td>1.000000</td>\n",
       "      <td>0.993380</td>\n",
       "      <td>0.999931</td>\n",
       "      <td>0.998748</td>\n",
       "      <td>1.00000</td>\n",
       "      <td>0.979952</td>\n",
       "      <td>0.999931</td>\n",
       "      <td>1.0</td>\n",
       "    </tr>\n",
       "    <tr>\n",
       "      <th>Economy Plus</th>\n",
       "      <td>0.967697</td>\n",
       "      <td>0.951865</td>\n",
       "      <td>1.000000</td>\n",
       "      <td>0.962384</td>\n",
       "      <td>1.000000</td>\n",
       "      <td>1.00000</td>\n",
       "      <td>1.000000</td>\n",
       "      <td>0.994262</td>\n",
       "      <td>0.999362</td>\n",
       "      <td>0.997662</td>\n",
       "      <td>1.00000</td>\n",
       "      <td>0.972692</td>\n",
       "      <td>0.999362</td>\n",
       "      <td>1.0</td>\n",
       "    </tr>\n",
       "  </tbody>\n",
       "</table>\n",
       "</div>"
      ],
      "text/plain": [
       "              Departure and Arrival Time Convenience  Ease of Online Booking  \\\n",
       "Class                                                                          \n",
       "Business                                    0.954215                0.957754   \n",
       "Economy                                     0.939443                0.955359   \n",
       "Economy Plus                                0.967697                0.951865   \n",
       "\n",
       "              Check-in Service  Online Boarding  Gate Location  \\\n",
       "Class                                                            \n",
       "Business              0.999984         0.989141       0.999984   \n",
       "Economy               1.000000         0.964825       1.000000   \n",
       "Economy Plus          1.000000         0.962384       1.000000   \n",
       "\n",
       "              On-board Service  Seat Comfort  Leg Room Service  Cleanliness  \\\n",
       "Class                                                                         \n",
       "Business               0.99992      0.999984          0.997458     0.999936   \n",
       "Economy                1.00000      1.000000          0.993380     0.999931   \n",
       "Economy Plus           1.00000      1.000000          0.994262     0.999362   \n",
       "\n",
       "              Food and Drink  In-flight Service  In-flight Wifi Service  \\\n",
       "Class                                                                     \n",
       "Business            0.999405            0.99992                0.959942   \n",
       "Economy             0.998748            1.00000                0.979952   \n",
       "Economy Plus        0.997662            1.00000                0.972692   \n",
       "\n",
       "              In-flight Entertainment  Baggage Handling  \n",
       "Class                                                    \n",
       "Business                     0.999871               1.0  \n",
       "Economy                      0.999931               1.0  \n",
       "Economy Plus                 0.999362               1.0  "
      ]
     },
     "execution_count": 11,
     "metadata": {},
     "output_type": "execute_result"
    }
   ],
   "source": [
    "df3 = df2.copy()\n",
    "df3[df3>1] = 1\n",
    "df4 = pd.concat([df['Class'].copy(),df3],axis=1)\n",
    "df4.groupby('Class').mean()"
   ]
  },
  {
   "cell_type": "markdown",
   "metadata": {},
   "source": [
    "<font size = 4 color = 002B5B> So every service is given to every class"
   ]
  },
  {
   "cell_type": "code",
   "execution_count": 12,
   "metadata": {},
   "outputs": [],
   "source": [
    "del df3\n",
    "del df4"
   ]
  },
  {
   "cell_type": "markdown",
   "metadata": {},
   "source": [
    "<font color=7D530C size=30> Null values </font>\n",
    "   "
   ]
  },
  {
   "cell_type": "markdown",
   "metadata": {},
   "source": [
    "<font size = 4 color = 002B5B> In this database the null value are actually 0 not null \n",
    "\n",
    "so it can be considered as null or as 'not applicable' </font>"
   ]
  },
  {
   "cell_type": "code",
   "execution_count": 13,
   "metadata": {},
   "outputs": [
    {
     "data": {
      "text/plain": [
       "7.940406529103788"
      ]
     },
     "execution_count": 13,
     "metadata": {},
     "output_type": "execute_result"
    }
   ],
   "source": [
    "# percentage of missing data\n",
    "100*df2[(df2==0).any(axis=1)].shape[0]/df2.shape[0]"
   ]
  },
  {
   "cell_type": "markdown",
   "metadata": {},
   "source": [
    "<font size = 4 color = 002B5B> And the null values are only in the numerical columns.\n",
    "\n",
    "so every numerical columns has how many null value ?\n",
    " </font>"
   ]
  },
  {
   "cell_type": "code",
   "execution_count": 14,
   "metadata": {},
   "outputs": [
    {
     "name": "stdout",
     "output_type": "stream",
     "text": [
      "Departure and Arrival Time Convenience    5.143979\n",
      "Ease of Online Booking                    4.374808\n",
      "In-flight Wifi Service                    3.015091\n",
      "Online Boarding                           2.371420\n",
      "Leg Room Service                          0.460425\n",
      "Food and Drink                            0.101632\n",
      "In-flight Entertainment                   0.013859\n",
      "Cleanliness                               0.010779\n",
      "On-board Service                          0.003850\n",
      "In-flight Service                         0.003850\n",
      "Check-in Service                          0.000770\n",
      "Gate Location                             0.000770\n",
      "Seat Comfort                              0.000770\n",
      "Baggage Handling                          0.000000\n",
      "dtype: float64\n"
     ]
    }
   ],
   "source": [
    "# percentage of missing data over every level of satisfaction\n",
    "df3 = df2.copy()\n",
    "df3[ df3>1 ] = 1 # all the values that are not null must be 1 so we can calculate the mean\n",
    "print( (100-df3.mean()*100).sort_values(ascending=False) )\n",
    "del df3"
   ]
  },
  {
   "cell_type": "markdown",
   "metadata": {},
   "source": [
    "<font size = 4 color = 002B5B> i think %7 null values are pretty much low so we can drop it </font>"
   ]
  },
  {
   "cell_type": "code",
   "execution_count": 15,
   "metadata": {},
   "outputs": [],
   "source": [
    "df.drop(df[(df2==0).any(axis=1)].index,axis=0,inplace=True)\n",
    "df2.drop(df2[(df2==0).any(axis=1)].index,axis=0,inplace=True)"
   ]
  },
  {
   "cell_type": "markdown",
   "metadata": {},
   "source": [
    "<font color=7D530C size=30> Convert Type of Data </font>"
   ]
  },
  {
   "cell_type": "markdown",
   "metadata": {},
   "source": [
    "<font color = 002B5B>I need to change 'Satisfied' to True and 'Neutral or Dissatisfied' to False so that i can work with it easily such as using the mean of it or anything\n",
    "i just need to remember that False equal to Neutral too not only Dissatisfied\n",
    "\n",
    "First is there any  value other than 'Satisfied' and 'Neutral or Dissatisfied' ?"
   ]
  },
  {
   "cell_type": "code",
   "execution_count": 16,
   "metadata": {},
   "outputs": [
    {
     "data": {
      "text/plain": [
       "array(['Neutral or Dissatisfied', 'Satisfied'], dtype=object)"
      ]
     },
     "execution_count": 16,
     "metadata": {},
     "output_type": "execute_result"
    }
   ],
   "source": [
    "# to convert this to a boolean , must know if there is a third value or not\n",
    "df['Satisfaction'].unique()"
   ]
  },
  {
   "cell_type": "code",
   "execution_count": 17,
   "metadata": {},
   "outputs": [],
   "source": [
    "# convert column to a bool type\n",
    "df.loc[df['Satisfaction']=='Satisfied','Satisfaction'] = True\n",
    "df.loc[df['Satisfaction']=='Neutral or Dissatisfied','Satisfaction'] =  False\n",
    "df['Satisfaction'] = df['Satisfaction'].convert_dtypes('bool')\n",
    "df['Satisfaction'].dtype"
   ]
  },
  {
   "cell_type": "markdown",
   "metadata": {},
   "source": [
    "<font color = 002B5B>Done"
   ]
  },
  {
   "cell_type": "markdown",
   "metadata": {},
   "source": [
    "<font color=A10035 size = 30 >**Questions**"
   ]
  },
  {
   "cell_type": "markdown",
   "metadata": {},
   "source": [
    "<font color=7D530C size=10> Question 1 </font> \n",
    "\n",
    "<font color = 002B5B>Is there a relation between any of the satisfaction levels and the overall Satisfaction ?"
   ]
  },
  {
   "cell_type": "code",
   "execution_count": 20,
   "metadata": {
    "scrolled": false
   },
   "outputs": [
    {
     "data": {
      "text/plain": [
       "Gate Location                             5.574183\n",
       "Leg Room Service                          2.354350\n",
       "Check-in Service                          1.830230\n",
       "On-board Service                          1.276596\n",
       "In-flight Wifi Service                    0.628323\n",
       "Seat Comfort                              0.520095\n",
       "Baggage Handling                          0.472590\n",
       "Cleanliness                               0.315679\n",
       "Food and Drink                            0.276243\n",
       "In-flight Service                         0.233754\n",
       "Online Boarding                           0.233645\n",
       "In-flight Entertainment                   0.192400\n",
       "Departure and Arrival Time Convenience    0.139211\n",
       "Ease of Online Booking                    0.000000\n",
       "dtype: float64"
      ]
     },
     "execution_count": 20,
     "metadata": {},
     "output_type": "execute_result"
    }
   ],
   "source": [
    "Answer = pd.Series(dtype=float)\n",
    "\n",
    "for i,col in enumerate(df2.columns):\n",
    "\n",
    "    '''\n",
    "    if a passenger rate every factor other than the factor\n",
    "    that in col\n",
    "\n",
    "    , rate the factor in col with less than 4 \n",
    "\n",
    "    And overall state of the passenger is unsatisfied\n",
    "    \n",
    "    that means the factor in col affected the overall satisfaction \n",
    "    '''\n",
    "\n",
    "    T1 = (df2.drop(df2.columns[i],axis=1)>3).all(axis=1) # condition\n",
    "    T2 = (df['Satisfaction']==False) # condition\n",
    "    T3 = (df2.iloc[:,i] < 4) # condition\n",
    "\n",
    "    # Satisfied people / ( Satisfied people and unsatisfied people )\n",
    "\n",
    "    ans = (df[T1&T2&T3].shape[0])/(df[T1].shape[0]) \n",
    "\n",
    "    Answer[col]=(ans*100) # percentage\n",
    "\n",
    "Answer = Answer.sort_values(ascending=False) \n",
    "Answer"
   ]
  },
  {
   "cell_type": "code",
   "execution_count": null,
   "metadata": {},
   "outputs": [
    {
     "data": {
      "text/plain": [
       "<matplotlib.legend.Legend at 0x212c1aeee60>"
      ]
     },
     "execution_count": 18,
     "metadata": {},
     "output_type": "execute_result"
    },
    {
     "data": {
      "image/png": "[encoded data removed]",
      "text/plain": [
       "<Figure size 432x288 with 1 Axes>"
      ]
     },
     "metadata": {},
     "output_type": "display_data"
    }
   ],
   "source": [
    "# plotting the result\n",
    "\n",
    "x = Answer.keys()\n",
    "y = Answer.values\n",
    "\n",
    "colors = ['#A10035']+['#6B9EED', '#002B5B']*6\n",
    "porcent = 100.*y/y.sum()\n",
    "explode = (0.1, 0.05, 0.025, 0.0125, 0, 0, 0, 0, 0, 0, 0, 0, 0, 0) # explode 1st slice , 2nd ,3rd and 4th\n",
    "\n",
    "patches, texts = plt.pie(y, colors=colors, startangle=90, radius=1.2\n",
    "                        ,explode=explode)\n",
    "labels = ['{0} - {1:1.2f} %'.format(i,j) for i,j in zip(x, porcent)]\n",
    "\n",
    "sort_legend = True\n",
    "if sort_legend:\n",
    "    patches, labels, dummy =  zip(*sorted(zip(patches, labels, y),\n",
    "                                 key=lambda x: x[2],reverse=True))\n",
    "\n",
    "plt.legend(patches, labels, loc='upper right', bbox_to_anchor=(-0.1, 1.),\n",
    "           fontsize=8)"
   ]
  },
  {
   "cell_type": "markdown",
   "metadata": {},
   "source": [
    "<font color =A10035> **We can see that the Gate location is the most factor affecting the overall satisfaction.**"
   ]
  },
  {
   "cell_type": "markdown",
   "metadata": {},
   "source": [
    "<font color=7D530C size=10> Question 2 </font> \n",
    "\n",
    "<font color = 002B5B> Does the biological Factors like age , gender and Hours spent on flight affect the overall Satisfaction ?"
   ]
  },
  {
   "cell_type": "markdown",
   "metadata": {},
   "source": [
    "<font color = 002B5B> First must group the ages\n"
   ]
  },
  {
   "cell_type": "code",
   "execution_count": null,
   "metadata": {},
   "outputs": [
    {
     "name": "stdout",
     "output_type": "stream",
     "text": [
      "[ 7  8  9 10 11 12 13 14 15 16 17 18 19 20 21 22 23 24 25 26 27 28 29 30\n",
      " 31 32 33 34 35 36 37 38 39 40 41 42 43 44 45 46 47 48 49 50 51 52 53 54\n",
      " 55 56 57 58 59 60 61 62 63 64 65 66 67 68 69 70 71 72 73 74 75 76 77 78\n",
      " 79 80 85]\n"
     ]
    }
   ],
   "source": [
    "# explore the ages in the dataset to group it\n",
    "print(df['Age'].sort_values().unique())"
   ]
  },
  {
   "cell_type": "code",
   "execution_count": null,
   "metadata": {},
   "outputs": [],
   "source": [
    "#list containing the ranges\n",
    "R = [0,10,15,20,25,30,40,50,60,70,85]\n",
    "df1 = df.copy()\n",
    "\n",
    "for i in range(10) :\n",
    "    #Grouping Ages like 10 if age is less than 10 and so on\n",
    "    df1.loc[df['Age'].between(R[i]-1,R[i+1],inclusive='neither'),'Age'] = R[i+1]"
   ]
  },
  {
   "cell_type": "markdown",
   "metadata": {},
   "source": [
    "<font color = 002B5B> Now time for grouping the flight Distance\n",
    "\n",
    "Roughly time spent in flight is 1 hour per 500 miles so we can group it as 500 miles."
   ]
  },
  {
   "cell_type": "code",
   "execution_count": null,
   "metadata": {},
   "outputs": [],
   "source": [
    "#Grouping Miles like 500 if Distance is less than 500 and so on\n",
    "for i in range(0,5000,500) :  \n",
    "   df1.loc[df['Flight Distance'].between(i-1,i+500,inclusive='neither'),\n",
    "          'Flight Distance'] = i + 500"
   ]
  },
  {
   "cell_type": "code",
   "execution_count": null,
   "metadata": {},
   "outputs": [],
   "source": [
    "list1 = list(df1['Age'].sort_values().unique())\n",
    "list2 = list(df1['Flight Distance'].sort_values().unique())\n",
    "AnsArrM = np.ones((10, 10))\n",
    "AnsArrM[:,:] = -1\n",
    "AnsArrF = np.ones((10, 10))\n",
    "AnsArrF[:,:] = -1\n",
    "\n",
    "'''\n",
    "\n",
    "creating a 2d array that has -1 if no one matches the Constraints\n",
    "and percentage value of the satisfied people over the distisfied.\n",
    "\n",
    "'''\n",
    "for i,v1 in enumerate(list1):\n",
    "    for j,v2 in enumerate(list2):\n",
    "        is_Constraints = (df1['Age']==v1)&(\n",
    "                      df1['Flight Distance']==v2)&(df1['Gender']=='Male')\n",
    "        if (df1[is_Constraints].shape[0])!=0:\n",
    "           AnsArrM[i,j] = df1[is_Constraints]['Satisfaction'].mean()\n",
    "           \n",
    "for i,v1 in enumerate(list1):\n",
    "    for j,v2 in enumerate(list2):\n",
    "        is_Constraints = (df1['Age']==v1)&(\n",
    "                      df1['Flight Distance']==v2)&(df1['Gender']=='Female')\n",
    "        if(df1[is_Constraints]['Satisfaction'].shape[0])!=0:\n",
    "           AnsArrF[i,j] = df1[is_Constraints]['Satisfaction'].mean()                 "
   ]
  },
  {
   "cell_type": "code",
   "execution_count": null,
   "metadata": {},
   "outputs": [
    {
     "data": {
      "image/png": "[encoded data removed]",
      "text/plain": [
       "<Figure size 288x216 with 1 Axes>"
      ]
     },
     "metadata": {
      "needs_background": "light"
     },
     "output_type": "display_data"
    },
    {
     "data": {
      "image/png": "[encoded data removed]",
      "text/plain": [
       "<Figure size 288x216 with 1 Axes>"
      ]
     },
     "metadata": {
      "needs_background": "light"
     },
     "output_type": "display_data"
    }
   ],
   "source": [
    "def plot_(colormaps,data,Gender):\n",
    "    \n",
    "    '''\n",
    "    \n",
    "    Show the plot\n",
    "    \n",
    "    inputs:\n",
    "    \n",
    "    colormaps: colormap\n",
    "    data: 2d array containing value from 0 to 1 , or -1 for undefined\n",
    "    Gender: String containg the lable which will be written on the plot\n",
    "\n",
    "       \n",
    "    outputs:\n",
    "    None\n",
    "    \n",
    "    '''\n",
    "\n",
    "    dataAlpha = np.clip(data,0,1) #ignore -1 values\n",
    "    n = len(colormaps)\n",
    "\n",
    "    fig, axs = plt.subplots(1, n, figsize=(4, 3),\n",
    "                           constrained_layout=True, squeeze=False)\n",
    "    for [ax, cmap] in zip(axs.flat, colormaps):\n",
    "        psm = ax.pcolormesh(data,cmap=cmap, rasterized=True, vmin=-1, \n",
    "                           vmax=1,alpha=dataAlpha)\n",
    "\n",
    "    #plotting Black Squeare that expresses The null information \n",
    "    dataAlpha = np.clip(data,-1,0) # ignore > 1 values \n",
    "    dataAlpha = np.where(data==-1,1,0) # all = 0 except when it -1 --> = 1\n",
    "\n",
    "    for [ax, cmap] in zip(axs.flat, colormaps):\n",
    "        psm = ax.pcolormesh(data,cmap=cmap, rasterized=True, vmin=-1, vmax=2,\n",
    "        alpha=dataAlpha) \n",
    "    \n",
    "    axs[0,0].set_title(Gender)     \n",
    "    axs[0,0].set_xticks(np.arange(0,11,1))   \n",
    "    axs[0,0].set_yticks(np.arange(0,11,1))      \n",
    "    axs[0,0].set_yticklabels([0]+list1)     \n",
    "    axs[0,0].set_xlabel('Hours') \n",
    "    axs[0,0].set_ylabel('Years') \n",
    "\n",
    "    plt.show()\n",
    "\n",
    "    \n",
    "cmap = clr.ListedColormap([\"black\", \"#002B5B\"])\n",
    "plot_([cmap],AnsArrM,\"Males\")  \n",
    "\n",
    "cmap = clr.ListedColormap([\"black\", \"#A10035\"])\n",
    "plot_([cmap],AnsArrF,\"Fameles\") "
   ]
  },
  {
   "cell_type": "markdown",
   "metadata": {},
   "source": [
    "<font color =A10035> **Black represent the null values and the saturation represent the density of Satisfied people, So\n",
    "the more they spent in the flight and the higher the age the more likely they are Satisfied, And it appears that no obvious affect respecting gender**"
   ]
  },
  {
   "cell_type": "markdown",
   "metadata": {},
   "source": [
    "<font color=7D530C size=10> Question 3 </font> \n",
    "\n",
    "<font color = 002B5B> Does the in-flight entertainment is specified for a certain age ?"
   ]
  },
  {
   "cell_type": "code",
   "execution_count": null,
   "metadata": {},
   "outputs": [
    {
     "data": {
      "image/png": "[encoded data removed]",
      "text/plain": [
       "<Figure size 720x504 with 1 Axes>"
      ]
     },
     "metadata": {
      "needs_background": "light"
     },
     "output_type": "display_data"
    }
   ],
   "source": [
    "AnsArr = np.zeros((10, 2)) # the data of satisfied people\n",
    "AnsArrN = np.zeros((10, 2)) # the dataN means Negative > the people who are not satisfied\n",
    "All = df1.shape[0]/100 # all the people\n",
    "\n",
    "col = 'In-flight Entertainment'\n",
    "Male = (df1['Gender']=='Male')\n",
    "Female = (df1['Gender']=='Female')\n",
    "# the really satisfied people would rate the 'Entertainment' with 5 and 1 the other way around\n",
    "plus = (df1[col]==5) \n",
    "negative = (df1[col]==1)\n",
    "\n",
    "# Array having the Percentage of every situation on all people\n",
    "\n",
    "AnsArr[:,0] = df1[Male&plus].groupby('Age').count().iloc[:,0]/All\n",
    "AnsArr[:,1] = df1[Female&plus].groupby('Age').count().iloc[:,0]/All\n",
    "AnsArrN[:,0] = -df1[Male&negative].groupby('Age').count().iloc[:,0]/All\n",
    "AnsArrN[:,1] = -df1[Female&negative].groupby('Age').count().iloc[:,0]/All\n",
    "\n",
    "# Plotting the result\n",
    "\n",
    "ind = np.arange(10)\n",
    "width = 0.5\n",
    "fig = plt.subplots(figsize =(10, 7)) \n",
    "plt.axhline(y=0,color='black',linestyle='--',alpha=1,linewidth=1)\n",
    "\n",
    "p1 = plt.bar(ind, AnsArr[:,0], width,color=\"#002B5B\") \n",
    "p2 = plt.bar(ind, AnsArr[:,1], width, bottom = AnsArr[:,0],color=\"#A10035\")\n",
    "p3 = plt.bar(ind, AnsArrN[:,0], width,color=\"#002B5B\") \n",
    "p4 = plt.bar(ind, AnsArrN[:,1], width, bottom = AnsArrN[:,0],color=\"#A10035\")\n",
    "\n",
    "\n",
    "plt.ylabel('Satisfaction Percentage') \n",
    "\n",
    "plt.title('In-flight Entertainment Satisfactin in Respect to Age') \n",
    "\n",
    "plt.xticks(ind, df1.Age.sort_values().unique()) \n",
    "\n",
    "plt.yticks(np.arange(-3, 8, 1)) \n",
    "\n",
    "plt.legend((p2[0], p1[0]), ('Female','Male')) \n",
    "\n",
    "\n",
    "plt.show() "
   ]
  },
  {
   "cell_type": "markdown",
   "metadata": {},
   "source": [
    "<font color =A10035> **As the plot shows the people from 30 to 60 years old are the most who satisfied with this service, however we can't say for sure the service is specified for them it is only about the interest ,the people with a very young age or very old are the one who tend to rate this service with neutral rating.**"
   ]
  }
 ],
 "metadata": {
  "kernelspec": {
   "display_name": "Python 3.10.4 64-bit",
   "language": "python",
   "name": "python3"
  },
  "language_info": {
   "codemirror_mode": {
    "name": "ipython",
    "version": 3
   },
   "file_extension": ".py",
   "mimetype": "text/x-python",
   "name": "python",
   "nbconvert_exporter": "python",
   "pygments_lexer": "ipython3",
   "version": "3.10.4"
  },
  "vscode": {
   "interpreter": {
    "hash": "865d8b2eb28e274047ba64063dfb6a2aabf0dfec4905d304d7a76618dae6fdd4"
   }
  }
 },
 "nbformat": 4,
 "nbformat_minor": 2
}
